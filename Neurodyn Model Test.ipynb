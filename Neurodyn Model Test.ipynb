{
 "cells": [
  {
   "cell_type": "code",
   "execution_count": 61,
   "metadata": {
    "collapsed": true
   },
   "outputs": [],
   "source": [
    "import numpy as np\n",
    "import matplotlib.pyplot as plt\n",
    "from scipy.integrate import odeint\n",
    "from scipy.integrate import ode\n",
    "from scipy import interpolate\n",
    "\n",
    "import os\n",
    "import time"
   ]
  },
  {
   "cell_type": "code",
   "execution_count": 2,
   "metadata": {
    "collapsed": true
   },
   "outputs": [],
   "source": [
    "Ipath = \"/Users/alexanderjulianty/neurodyn/IforRealNeuron.csv\"\n",
    "Vpath = \"/Users/alexanderjulianty/neurodyn/neurodyndata/V1.dat\"\n",
    "\n",
    "Idat = np.genfromtxt(Ipath, delimiter=',')\n",
    "V1dat = np.fromfile(open(Vpath))"
   ]
  },
  {
   "cell_type": "code",
   "execution_count": 3,
   "metadata": {
    "collapsed": true
   },
   "outputs": [],
   "source": [
    "V_ref = 1 #V_ref is the bias on the chip. Grnd is now at 1V\n",
    "I_master = 1.25e-9\n",
    "I_voltage = 230e-9\n",
    "I_ref = 85e-9\n",
    "K = (0.018) * 1e-9 #scaling factor for injected current\n",
    "C_m = 4e-12 #membrane potential\n",
    "C_gate = 5e-12\n",
    "\n",
    "shift = 0\n",
    "time_len = 4000e-3 #time simulation is 4s\n",
    "kappa = 0.7\n",
    "Ut = 26e-3 #Jun's code calls this the \"unit volt (26mv)\"\n",
    "Res = 1.63e6 #some kind of resistance\n",
    "\n",
    "g0 = [800, 160, 15] #maximal conductances\n",
    "e_rev = [300, -210, -190] #reversal potentials\n",
    "\n",
    "g = np.multiply(g0,(kappa / Ut) * (I_master / 1024)) #scaling conductance values for chip\n",
    "E_rev = np.multiply(e_rev,(I_voltage / 1024) * Res) + V_ref #scaling and shifting reversal potentials\n",
    "\n",
    "vBias = np.zeros(7)\n",
    "vHigh = V_ref + 1.85e6 * I_voltage\n",
    "vLow = V_ref - 1.85e6 * I_voltage\n",
    "I_factor = (vHigh - vLow) / 700e3\n",
    "vBias[0] = vLow + I_factor * 50e3 \n",
    "\n",
    "for i in np.arange(1,7):\n",
    "    vBias[i] = vBias[i - 1] + I_factor * 100e3 #[0.6352, 0.7568, 0.8742, 1.000, 1.12157, 1.24314, 1.3647]\n",
    "    \n",
    "am = [0, 0, 120, 400, 800, 1023, 1023]\n",
    "bm = [1023, 1023, 1023, 1023, 0, 0, 0]\n",
    "\n",
    "#ah = [237, 5, 7, 6, 0, 0, 0] #Numbers from paper\n",
    "ah = [237, 80, 0, 0, 0, 0, 0] #Jun's numbers\n",
    "#bh = [0, 0, 0, 0, 41, 25, 8] #Numbers from paper\n",
    "bh = [0, 0, 0, 0, 41, 50, 70] #Jun's numbers\n",
    "\n",
    "#an = [0, 0, 0, 0, 18, 5, 43] #Numbers from paper\n",
    "an = [0, 0, 0, 0, 18, 5, 43] #Jun's numbers\n",
    "bn = [1, 0, 0, 1, 0, 0, 1]"
   ]
  },
  {
   "cell_type": "code",
   "execution_count": 4,
   "metadata": {
    "collapsed": true
   },
   "outputs": [],
   "source": [
    "\n",
    "def sigma(V_bk, V, sign = 1): #Why did we define sigma in this way?\n",
    "    kappa = 0.7\n",
    "    Ut = 26e-3\n",
    "    return 1 / (1 + np.exp(sign * kappa * (V_bk - V) / Ut))\n",
    "\n",
    "g_f = 1 / (C_gate * Ut)\n",
    "\n",
    "def alpha(V, x):\n",
    "    alpha = 0\n",
    "    for k in np.arange(7):\n",
    "        if x == \"m\":\n",
    "            alpha += am[k] * sigma(vBias[k], V, 1)\n",
    "        if x == \"h\":\n",
    "            alpha += ah[k] * sigma(vBias[k], V, -1)\n",
    "        if x == \"n\":\n",
    "            alpha += an[k] * sigma(vBias[k], V, 1)\n",
    "    return alpha * I_master / 1024 * g_f\n",
    "\n",
    "\n",
    "def beta(V, x):\n",
    "    beta = 0\n",
    "    for k in np.arange(7):\n",
    "        if x == \"m\":\n",
    "            beta += bm[k] * sigma(vBias[k], V, -1)\n",
    "        if x == \"h\":\n",
    "            beta += bh[k] * sigma(vBias[k], V, 1)\n",
    "        if x == \"n\":\n",
    "            beta += bn[k] * sigma(vBias[k], V, -1)\n",
    "    return beta * I_master / 1024 * g_f\n"
   ]
  },
  {
   "cell_type": "markdown",
   "metadata": {},
   "source": [
    "Here we define our system as well as the injected current"
   ]
  },
  {
   "cell_type": "code",
   "execution_count": 53,
   "metadata": {
    "collapsed": true
   },
   "outputs": [],
   "source": [
    "fIdat = interpolate.interp1d(np.arange(0,len(Idat)), Idat) #Used to interpolate time points that are undefined in Idat\n",
    "\n",
    "def I_inj(t):\n",
    "    if t * 5e3 <= len(Idat):\n",
    "#        return Idat[int(np.round(t * 5e3, 0))] * K\n",
    "        return fIdat(t * 5e3) * K\n",
    "    else:\n",
    "        return 0\n",
    "\n",
    "def neuron(y, t):\n",
    "    v, m, h, n = y\n",
    "    # g = (2.62e-8, 5.25e-9, 4.9e-10)\n",
    "    # E_rev = (1.109, 0.923, 0.9304)\n",
    "    I_na = g[0] * m**3 * h * (v - E_rev[0])\n",
    "    I_k = g[1] * n**4 * (v - E_rev[1])\n",
    "    I_l = g[2] * (v - E_rev[2])\n",
    "    \n",
    "    dvdt = (I_inj(t) - I_na - I_l - I_k) / C_m\n",
    "    dmdt = alpha(v, \"m\") * (1 - m) - beta(v, \"m\") * m\n",
    "    dhdt = alpha(v, \"h\") * (1 - h) - beta(v, \"h\") * h\n",
    "    dndt = alpha(v, \"n\") * (1 - n) - beta(v, \"n\") * n\n",
    "    \n",
    "    dydt = [dvdt, dmdt, dhdt, dndt]\n",
    "\n",
    "    return dydt\n",
    "\n"
   ]
  },
  {
   "cell_type": "markdown",
   "metadata": {},
   "source": [
    "We set the initial conditions and time window"
   ]
  },
  {
   "cell_type": "code",
   "execution_count": 60,
   "metadata": {},
   "outputs": [],
   "source": [
    "y0 = [1.09, 0.5, 0.5, 0.5] #initial conditions\n",
    "t_step = 1e-3\n",
    "t_max = 4\n",
    "t = np.linspace(0, t_max, int(t_max / t_step + 1))\n",
    "\n",
    "start_time = time.time()\n",
    "sol = odeint(neuron, y0, t, args=())\n",
    "print \"Time elapsed:\", time.time() - start_time"
   ]
  },
  {
   "cell_type": "markdown",
   "metadata": {},
   "source": [
    "Plot the data"
   ]
  },
  {
   "cell_type": "code",
   "execution_count": 62,
   "metadata": {},
   "outputs": [
    {
     "data": {
      "image/png": "[encoded data removed]",
      "text/plain": [
       "<matplotlib.figure.Figure at 0x10dda8b90>"
      ]
     },
     "metadata": {},
     "output_type": "display_data"
    }
   ],
   "source": [
    "twindow = t[tmin:tmax]\n",
    "plt.subplot(2,1,1)\n",
    "plt.plot(t, sol[:,0], 'b')\n",
    "plt.ylabel('Membrane Voltage')\n",
    "\n",
    "plt.subplot(2,1,2)\n",
    "plt.plot(t, fIdat(t * 5e3) * K, 'r')\n",
    "plt.ylabel('Injected Current')\n",
    "\n",
    "plt.tight_layout()\n",
    "plt.show()"
   ]
  },
  {
   "cell_type": "markdown",
   "metadata": {},
   "source": [
    "Save data"
   ]
  },
  {
   "cell_type": "code",
   "execution_count": 111,
   "metadata": {},
   "outputs": [],
   "source": [
    "data = np.append(t,sol).reshape(len(t),5)\n",
    "data = np.append(data, fIdat(t * 5e3))\n",
    "data = data.reshape(len(t),6)\n",
    "np.save('ode_data.npy', data)"
   ]
  },
  {
   "cell_type": "markdown",
   "metadata": {},
   "source": [
    "# Attempting to use the 4th order Runge Kutta Method in scipy.integrate.ode"
   ]
  },
  {
   "cell_type": "markdown",
   "metadata": {},
   "source": [
    "## Sanity Check"
   ]
  },
  {
   "cell_type": "code",
   "execution_count": 67,
   "metadata": {},
   "outputs": [
    {
     "data": {
      "image/png": "[encoded data removed]",
      "text/plain": [
       "<matplotlib.figure.Figure at 0x1133e4310>"
      ]
     },
     "metadata": {},
     "output_type": "display_data"
    }
   ],
   "source": [
    "y0 = 0.1\n",
    "t0 = 0\n",
    "dt = 0.001\n",
    "t1 = 10\n",
    "\n",
    "def func(t, y): # derivative of x^2\n",
    "    return 1\n",
    "r = ode(func).set_integrator('dopri5')\n",
    "r.set_initial_value(y0,t0)\n",
    "\n",
    "solution = np.zeros(10000)\n",
    "while r.successful() and r.t < t1:\n",
    "    r.integrate(r.t + dt)\n",
    "    solution[int(r.t * 1000 - 1)] = r.y\n",
    "\n",
    "t = np.linspace(0, 10, 10000)\n",
    "plt.plot(t[4980:4990], solution[4980:4990])\n",
    "#plt.plot(t, solution)\n",
    "plt.show()"
   ]
  },
  {
   "cell_type": "markdown",
   "metadata": {},
   "source": [
    "# Membrane Dynamics\n",
    "$C_{mem} \\frac{dV}{dt} = -I_{Na} - I_{K} - I_L + I_{inj}$\n",
    "\n",
    "$I_{Na} = G_{Na}m^3h (V - E_{Na})$\n",
    "\n",
    "$I_K = G_K n^4 (V- E_K)$\n",
    "\n",
    "$I_L = G_L (V- E_L)$\n",
    "\n",
    "Gating Variables\n",
    "\n",
    "$\\frac{dx}{dt} = \\alpha_x(V) (1-x) - \\beta_x(V) x$\n",
    "\n",
    "$\\alpha_x(V) = \\Sigma_{k=1}^7 \\alpha_{x,k}\\sigma_k(V)$\n",
    "\n",
    "$\\beta_x(V) = \\Sigma_{k=1}^7 \\beta_{x,k}\\sigma_k(V)$\n",
    "\n",
    "$\\sigma_k(V) = \\frac{1}{1+e^{\\pm \\mu(V_{b,k}-V)}}$\n",
    "\n",
    "Is the sigma form for alpha and beta unique to our implementation?\n",
    "\n",
    "$V_{b,k} = V_{b,min} + \\frac{k-1}{6}(V_{b,max}-V_{b,min})$"
   ]
  }
 ],
 "metadata": {
  "kernelspec": {
   "display_name": "Python 2",
   "language": "python",
   "name": "python2"
  },
  "language_info": {
   "codemirror_mode": {
    "name": "ipython",
    "version": 2
   },
   "file_extension": ".py",
   "mimetype": "text/x-python",
   "name": "python",
   "nbconvert_exporter": "python",
   "pygments_lexer": "ipython2",
   "version": "2.7.14"
  }
 },
 "nbformat": 4,
 "nbformat_minor": 2
}
